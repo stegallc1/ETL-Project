{
 "cells": [
  {
   "cell_type": "code",
   "execution_count": 1,
   "metadata": {},
   "outputs": [],
   "source": [
    "import pandas as pd\n",
    "from bs4 import BeautifulSoup\n",
    "import requests\n",
    "import certifi\n",
    "import urllib3\n",
    "import html5lib\n",
    "import math\n",
    "urllib3.disable_warnings(urllib3.exceptions.InsecureRequestWarning)\n",
    "from IPython.display import HTML\n",
    "import matplotlib.pyplot as plt\n",
    "import numpy as np"
   ]
  },
  {
   "cell_type": "markdown",
   "metadata": {},
   "source": [
    "Import HTML File"
   ]
  },
  {
   "cell_type": "code",
   "execution_count": 2,
   "metadata": {},
   "outputs": [],
   "source": [
    "URL = \"https://www.ttilgb.com/uiAgs03Action/openScreen.do\"\n",
    "res = requests.get(URL, 'lxml', verify=False)\n",
    "soup = BeautifulSoup(res.content, 'lxml')"
   ]
  },
  {
   "cell_type": "markdown",
   "metadata": {},
   "source": [
    "Find needed Table from web page\n",
    "*To find needed table look for children or you Soup and prettify"
   ]
  },
  {
   "cell_type": "code",
   "execution_count": 3,
   "metadata": {},
   "outputs": [],
   "source": [
    "#Or children = table.findChildren()\n",
    "#for child in children:\n",
    "    #print (child)"
   ]
  },
  {
   "cell_type": "code",
   "execution_count": 4,
   "metadata": {},
   "outputs": [],
   "source": [
    "#Find table\n",
    "table1 = soup.find_all('tr')[0] "
   ]
  },
  {
   "cell_type": "code",
   "execution_count": 5,
   "metadata": {},
   "outputs": [],
   "source": [
    "df1 = pd.read_html(str(table1))\n",
    "#print (df1)"
   ]
  },
  {
   "cell_type": "code",
   "execution_count": 6,
   "metadata": {},
   "outputs": [],
   "source": [
    "#filter what we need\n",
    "table2 = soup.find_all(\"td\", { \"class\" : \"h23\" })"
   ]
  },
  {
   "cell_type": "code",
   "execution_count": 7,
   "metadata": {},
   "outputs": [],
   "source": [
    "df2 = pd.read_html(str(table2))\n",
    "#df2"
   ]
  },
  {
   "cell_type": "code",
   "execution_count": 8,
   "metadata": {},
   "outputs": [],
   "source": [
    "#soupparser = BeautifulSoup(res.content, 'html.parser')\n",
    "#print(soupparser.prettify()) "
   ]
  },
  {
   "cell_type": "code",
   "execution_count": 9,
   "metadata": {},
   "outputs": [],
   "source": [
    "#filter what we need\n",
    "table = soup.find('tbody')"
   ]
  },
  {
   "cell_type": "markdown",
   "metadata": {},
   "source": [
    "Extract and clean data"
   ]
  },
  {
   "cell_type": "code",
   "execution_count": 10,
   "metadata": {},
   "outputs": [],
   "source": [
    "#pull data cleanly as possible, tried several loop functions to pull, \n",
    "#but with the muliple rowspans and colspans was taking to long and decided to clean with pandas\n",
    "res = []\n",
    "row = []\n",
    "\n",
    "for tr in table.find_all('tr'):\n",
    "     for td in tr.find_all('td'):\n",
    "         row.append(td.text.strip())\n",
    "     res.append(row)\n",
    "     row = []"
   ]
  },
  {
   "cell_type": "code",
   "execution_count": 11,
   "metadata": {},
   "outputs": [],
   "source": [
    "df = pd.DataFrame(data=res)\n",
    "#df"
   ]
  },
  {
   "cell_type": "code",
   "execution_count": 12,
   "metadata": {},
   "outputs": [],
   "source": [
    "#replace values not needed\n",
    "df2=df.replace(to_replace= [\"TRANSACTION TYPE\"], value=' ', regex=True)\n",
    "df22=df2.replace(to_replace= [\"None\"], value=' ', regex=True)\n",
    "#df22"
   ]
  },
  {
   "cell_type": "code",
   "execution_count": 13,
   "metadata": {},
   "outputs": [],
   "source": [
    "#drop rows of other lines\n",
    "df3=df22.drop(df.index[[0,2,3,8,9,10,11,12,13,14,15,16,17,22,23,24,25,26,27,28,29,30,31,32,33,34,35,36,37,38,39,40,41,46,47,48,49,50,51,52,53,54,55,56,57,58,59,60,61,62,63,64,65,66,67,68,69,70]])\n",
    "#df3"
   ]
  },
  {
   "cell_type": "code",
   "execution_count": 14,
   "metadata": {},
   "outputs": [],
   "source": [
    "#fill down values for line\n",
    "for col in [11]:\n",
    "    df3[col] = df3[col].ffill()"
   ]
  },
  {
   "cell_type": "code",
   "execution_count": 15,
   "metadata": {},
   "outputs": [],
   "source": [
    "#Fix mis alignment of df bu using fillna caused by row/colspans in orginal html with if logic & finish filtering\n",
    "df3[10] = df3[10].fillna(value=df3[9])\n",
    "df3.loc[df3[1] == \"20'\",1] = df3[2] \n",
    "df3.loc[df3[2] == \"\",2] = df3[7] \n",
    "df3.loc[df3[3] == \"\",3] = df3[4] \n",
    "df4=df3.drop(columns=[0,4,5,6,7,8,9])\n",
    "#print(df4)"
   ]
  },
  {
   "cell_type": "code",
   "execution_count": 16,
   "metadata": {},
   "outputs": [
    {
     "data": {
      "text/html": [
       "<div>\n",
       "<style scoped>\n",
       "    .dataframe tbody tr th:only-of-type {\n",
       "        vertical-align: middle;\n",
       "    }\n",
       "\n",
       "    .dataframe tbody tr th {\n",
       "        vertical-align: top;\n",
       "    }\n",
       "\n",
       "    .dataframe thead th {\n",
       "        text-align: right;\n",
       "    }\n",
       "</style>\n",
       "<table border=\"1\" class=\"dataframe\">\n",
       "  <thead>\n",
       "    <tr style=\"text-align: right;\">\n",
       "      <th></th>\n",
       "      <th>1</th>\n",
       "      <th>2</th>\n",
       "      <th>3</th>\n",
       "      <th>10</th>\n",
       "      <th>11</th>\n",
       "    </tr>\n",
       "  </thead>\n",
       "  <tbody>\n",
       "    <tr>\n",
       "      <td>1</td>\n",
       "      <td>5/29/2020</td>\n",
       "      <td>5/30/2020</td>\n",
       "      <td>5/31/2020</td>\n",
       "      <td>Type</td>\n",
       "      <td>Line</td>\n",
       "    </tr>\n",
       "    <tr>\n",
       "      <td>4</td>\n",
       "      <td>SINGLE</td>\n",
       "      <td>SINGLE</td>\n",
       "      <td>NO</td>\n",
       "      <td>20'</td>\n",
       "      <td>MSC</td>\n",
       "    </tr>\n",
       "    <tr>\n",
       "      <td>5</td>\n",
       "      <td>SINGLE</td>\n",
       "      <td>DUAL</td>\n",
       "      <td>NO</td>\n",
       "      <td>40'</td>\n",
       "      <td>MSC</td>\n",
       "    </tr>\n",
       "    <tr>\n",
       "      <td>6</td>\n",
       "      <td>SINGLE</td>\n",
       "      <td>DUAL</td>\n",
       "      <td>NO</td>\n",
       "      <td>40HC</td>\n",
       "      <td>MSC</td>\n",
       "    </tr>\n",
       "    <tr>\n",
       "      <td>7</td>\n",
       "      <td>SINGLE</td>\n",
       "      <td>DUAL</td>\n",
       "      <td>NO</td>\n",
       "      <td>45</td>\n",
       "      <td>MSC</td>\n",
       "    </tr>\n",
       "  </tbody>\n",
       "</table>\n",
       "</div>"
      ],
      "text/plain": [
       "          1          2          3     10    11\n",
       "1  5/29/2020  5/30/2020  5/31/2020  Type  Line\n",
       "4     SINGLE     SINGLE         NO   20'   MSC\n",
       "5     SINGLE       DUAL         NO   40'   MSC\n",
       "6     SINGLE       DUAL         NO  40HC   MSC\n",
       "7     SINGLE       DUAL         NO    45   MSC"
      ]
     },
     "execution_count": 16,
     "metadata": {},
     "output_type": "execute_result"
    }
   ],
   "source": [
    "#Change Headers for line and equip type\n",
    "df4[10] = df4[10].fillna(value=\"Type\")\n",
    "df4[11] = df4[11].fillna(value=\"Line\")\n",
    "df4.head()"
   ]
  },
  {
   "cell_type": "code",
   "execution_count": 17,
   "metadata": {},
   "outputs": [
    {
     "data": {
      "text/html": [
       "<div>\n",
       "<style scoped>\n",
       "    .dataframe tbody tr th:only-of-type {\n",
       "        vertical-align: middle;\n",
       "    }\n",
       "\n",
       "    .dataframe tbody tr th {\n",
       "        vertical-align: top;\n",
       "    }\n",
       "\n",
       "    .dataframe thead th {\n",
       "        text-align: right;\n",
       "    }\n",
       "</style>\n",
       "<table border=\"1\" class=\"dataframe\">\n",
       "  <thead>\n",
       "    <tr style=\"text-align: right;\">\n",
       "      <th>1</th>\n",
       "      <th>5/29/2020</th>\n",
       "      <th>5/30/2020</th>\n",
       "      <th>5/31/2020</th>\n",
       "      <th>Type</th>\n",
       "      <th>Line</th>\n",
       "    </tr>\n",
       "  </thead>\n",
       "  <tbody>\n",
       "    <tr>\n",
       "      <td>4</td>\n",
       "      <td>SINGLE</td>\n",
       "      <td>SINGLE</td>\n",
       "      <td>NO</td>\n",
       "      <td>20'</td>\n",
       "      <td>MSC</td>\n",
       "    </tr>\n",
       "    <tr>\n",
       "      <td>5</td>\n",
       "      <td>SINGLE</td>\n",
       "      <td>DUAL</td>\n",
       "      <td>NO</td>\n",
       "      <td>40'</td>\n",
       "      <td>MSC</td>\n",
       "    </tr>\n",
       "    <tr>\n",
       "      <td>6</td>\n",
       "      <td>SINGLE</td>\n",
       "      <td>DUAL</td>\n",
       "      <td>NO</td>\n",
       "      <td>40HC</td>\n",
       "      <td>MSC</td>\n",
       "    </tr>\n",
       "    <tr>\n",
       "      <td>7</td>\n",
       "      <td>SINGLE</td>\n",
       "      <td>DUAL</td>\n",
       "      <td>NO</td>\n",
       "      <td>45</td>\n",
       "      <td>MSC</td>\n",
       "    </tr>\n",
       "    <tr>\n",
       "      <td>18</td>\n",
       "      <td>SINGLE</td>\n",
       "      <td>SINGLE</td>\n",
       "      <td>NO</td>\n",
       "      <td>20'</td>\n",
       "      <td>MAE</td>\n",
       "    </tr>\n",
       "  </tbody>\n",
       "</table>\n",
       "</div>"
      ],
      "text/plain": [
       "1  5/29/2020 5/30/2020 5/31/2020  Type Line\n",
       "4     SINGLE    SINGLE        NO   20'  MSC\n",
       "5     SINGLE      DUAL        NO   40'  MSC\n",
       "6     SINGLE      DUAL        NO  40HC  MSC\n",
       "7     SINGLE      DUAL        NO    45  MSC\n",
       "18    SINGLE    SINGLE        NO   20'  MAE"
      ]
     },
     "execution_count": 17,
     "metadata": {},
     "output_type": "execute_result"
    }
   ],
   "source": [
    "# Set Headers\n",
    "new_header = df4.iloc[0] \n",
    "df4 = df4[1:] \n",
    "df4.columns = new_header \n",
    "df4.head()"
   ]
  },
  {
   "cell_type": "code",
   "execution_count": 19,
   "metadata": {},
   "outputs": [
    {
     "data": {
      "text/html": [
       "<div>\n",
       "<style scoped>\n",
       "    .dataframe tbody tr th:only-of-type {\n",
       "        vertical-align: middle;\n",
       "    }\n",
       "\n",
       "    .dataframe tbody tr th {\n",
       "        vertical-align: top;\n",
       "    }\n",
       "\n",
       "    .dataframe thead th {\n",
       "        text-align: right;\n",
       "    }\n",
       "</style>\n",
       "<table border=\"1\" class=\"dataframe\">\n",
       "  <thead>\n",
       "    <tr style=\"text-align: right;\">\n",
       "      <th>1</th>\n",
       "      <th>Type</th>\n",
       "      <th>5/29/2020</th>\n",
       "      <th>5/30/2020</th>\n",
       "      <th>5/31/2020</th>\n",
       "      <th>Line</th>\n",
       "    </tr>\n",
       "  </thead>\n",
       "  <tbody>\n",
       "    <tr>\n",
       "      <td>4</td>\n",
       "      <td>20'</td>\n",
       "      <td>SINGLE</td>\n",
       "      <td>SINGLE</td>\n",
       "      <td>NO</td>\n",
       "      <td>MSC</td>\n",
       "    </tr>\n",
       "    <tr>\n",
       "      <td>5</td>\n",
       "      <td>40'</td>\n",
       "      <td>SINGLE</td>\n",
       "      <td>DUAL</td>\n",
       "      <td>NO</td>\n",
       "      <td>MSC</td>\n",
       "    </tr>\n",
       "    <tr>\n",
       "      <td>6</td>\n",
       "      <td>40HC</td>\n",
       "      <td>SINGLE</td>\n",
       "      <td>DUAL</td>\n",
       "      <td>NO</td>\n",
       "      <td>MSC</td>\n",
       "    </tr>\n",
       "    <tr>\n",
       "      <td>7</td>\n",
       "      <td>45</td>\n",
       "      <td>SINGLE</td>\n",
       "      <td>DUAL</td>\n",
       "      <td>NO</td>\n",
       "      <td>MSC</td>\n",
       "    </tr>\n",
       "    <tr>\n",
       "      <td>18</td>\n",
       "      <td>20'</td>\n",
       "      <td>SINGLE</td>\n",
       "      <td>SINGLE</td>\n",
       "      <td>NO</td>\n",
       "      <td>MAE</td>\n",
       "    </tr>\n",
       "    <tr>\n",
       "      <td>19</td>\n",
       "      <td>40'</td>\n",
       "      <td>SINGLE</td>\n",
       "      <td>SINGLE</td>\n",
       "      <td>NO</td>\n",
       "      <td>MAE</td>\n",
       "    </tr>\n",
       "    <tr>\n",
       "      <td>20</td>\n",
       "      <td>40HC</td>\n",
       "      <td>SINGLE</td>\n",
       "      <td>SINGLE</td>\n",
       "      <td>NO</td>\n",
       "      <td>MAE</td>\n",
       "    </tr>\n",
       "    <tr>\n",
       "      <td>21</td>\n",
       "      <td>45</td>\n",
       "      <td>SINGLE</td>\n",
       "      <td>SINGLE</td>\n",
       "      <td>NO</td>\n",
       "      <td>MAE</td>\n",
       "    </tr>\n",
       "    <tr>\n",
       "      <td>42</td>\n",
       "      <td>20'</td>\n",
       "      <td>DUAL</td>\n",
       "      <td>DUAL</td>\n",
       "      <td>NO</td>\n",
       "      <td>SML</td>\n",
       "    </tr>\n",
       "    <tr>\n",
       "      <td>43</td>\n",
       "      <td>40'</td>\n",
       "      <td>DUAL</td>\n",
       "      <td>NO</td>\n",
       "      <td>NO</td>\n",
       "      <td>SML</td>\n",
       "    </tr>\n",
       "    <tr>\n",
       "      <td>44</td>\n",
       "      <td>40HC</td>\n",
       "      <td>DUAL</td>\n",
       "      <td>NO</td>\n",
       "      <td>NO</td>\n",
       "      <td>SML</td>\n",
       "    </tr>\n",
       "    <tr>\n",
       "      <td>45</td>\n",
       "      <td>45</td>\n",
       "      <td>DUAL</td>\n",
       "      <td>NO</td>\n",
       "      <td>NO</td>\n",
       "      <td>SML</td>\n",
       "    </tr>\n",
       "  </tbody>\n",
       "</table>\n",
       "</div>"
      ],
      "text/plain": [
       "1   Type 5/29/2020 5/30/2020 5/31/2020 Line\n",
       "4    20'    SINGLE    SINGLE        NO  MSC\n",
       "5    40'    SINGLE      DUAL        NO  MSC\n",
       "6   40HC    SINGLE      DUAL        NO  MSC\n",
       "7     45    SINGLE      DUAL        NO  MSC\n",
       "18   20'    SINGLE    SINGLE        NO  MAE\n",
       "19   40'    SINGLE    SINGLE        NO  MAE\n",
       "20  40HC    SINGLE    SINGLE        NO  MAE\n",
       "21    45    SINGLE    SINGLE        NO  MAE\n",
       "42   20'      DUAL      DUAL        NO  SML\n",
       "43   40'      DUAL        NO        NO  SML\n",
       "44  40HC      DUAL        NO        NO  SML\n",
       "45    45      DUAL        NO        NO  SML"
      ]
     },
     "execution_count": 19,
     "metadata": {},
     "output_type": "execute_result"
    }
   ],
   "source": [
    "#Reorder \n",
    "col_name=\"Type\"\n",
    "first_col = df4.pop(col_name)\n",
    "df4.insert(0, col_name, first_col)\n",
    "df4"
   ]
  },
  {
   "cell_type": "code",
   "execution_count": 20,
   "metadata": {},
   "outputs": [
    {
     "data": {
      "text/html": [
       "<div>\n",
       "<style scoped>\n",
       "    .dataframe tbody tr th:only-of-type {\n",
       "        vertical-align: middle;\n",
       "    }\n",
       "\n",
       "    .dataframe tbody tr th {\n",
       "        vertical-align: top;\n",
       "    }\n",
       "\n",
       "    .dataframe thead th {\n",
       "        text-align: right;\n",
       "    }\n",
       "</style>\n",
       "<table border=\"1\" class=\"dataframe\">\n",
       "  <thead>\n",
       "    <tr style=\"text-align: right;\">\n",
       "      <th>1</th>\n",
       "      <th>Line</th>\n",
       "      <th>Type</th>\n",
       "      <th>5/29/2020</th>\n",
       "      <th>5/30/2020</th>\n",
       "      <th>5/31/2020</th>\n",
       "    </tr>\n",
       "  </thead>\n",
       "  <tbody>\n",
       "    <tr>\n",
       "      <td>4</td>\n",
       "      <td>MSC</td>\n",
       "      <td>20'</td>\n",
       "      <td>SINGLE</td>\n",
       "      <td>SINGLE</td>\n",
       "      <td>NO</td>\n",
       "    </tr>\n",
       "    <tr>\n",
       "      <td>5</td>\n",
       "      <td>MSC</td>\n",
       "      <td>40'</td>\n",
       "      <td>SINGLE</td>\n",
       "      <td>DUAL</td>\n",
       "      <td>NO</td>\n",
       "    </tr>\n",
       "    <tr>\n",
       "      <td>6</td>\n",
       "      <td>MSC</td>\n",
       "      <td>40HC</td>\n",
       "      <td>SINGLE</td>\n",
       "      <td>DUAL</td>\n",
       "      <td>NO</td>\n",
       "    </tr>\n",
       "    <tr>\n",
       "      <td>7</td>\n",
       "      <td>MSC</td>\n",
       "      <td>45</td>\n",
       "      <td>SINGLE</td>\n",
       "      <td>DUAL</td>\n",
       "      <td>NO</td>\n",
       "    </tr>\n",
       "    <tr>\n",
       "      <td>18</td>\n",
       "      <td>MAE</td>\n",
       "      <td>20'</td>\n",
       "      <td>SINGLE</td>\n",
       "      <td>SINGLE</td>\n",
       "      <td>NO</td>\n",
       "    </tr>\n",
       "    <tr>\n",
       "      <td>19</td>\n",
       "      <td>MAE</td>\n",
       "      <td>40'</td>\n",
       "      <td>SINGLE</td>\n",
       "      <td>SINGLE</td>\n",
       "      <td>NO</td>\n",
       "    </tr>\n",
       "    <tr>\n",
       "      <td>20</td>\n",
       "      <td>MAE</td>\n",
       "      <td>40HC</td>\n",
       "      <td>SINGLE</td>\n",
       "      <td>SINGLE</td>\n",
       "      <td>NO</td>\n",
       "    </tr>\n",
       "    <tr>\n",
       "      <td>21</td>\n",
       "      <td>MAE</td>\n",
       "      <td>45</td>\n",
       "      <td>SINGLE</td>\n",
       "      <td>SINGLE</td>\n",
       "      <td>NO</td>\n",
       "    </tr>\n",
       "    <tr>\n",
       "      <td>42</td>\n",
       "      <td>SML</td>\n",
       "      <td>20'</td>\n",
       "      <td>DUAL</td>\n",
       "      <td>DUAL</td>\n",
       "      <td>NO</td>\n",
       "    </tr>\n",
       "    <tr>\n",
       "      <td>43</td>\n",
       "      <td>SML</td>\n",
       "      <td>40'</td>\n",
       "      <td>DUAL</td>\n",
       "      <td>NO</td>\n",
       "      <td>NO</td>\n",
       "    </tr>\n",
       "    <tr>\n",
       "      <td>44</td>\n",
       "      <td>SML</td>\n",
       "      <td>40HC</td>\n",
       "      <td>DUAL</td>\n",
       "      <td>NO</td>\n",
       "      <td>NO</td>\n",
       "    </tr>\n",
       "    <tr>\n",
       "      <td>45</td>\n",
       "      <td>SML</td>\n",
       "      <td>45</td>\n",
       "      <td>DUAL</td>\n",
       "      <td>NO</td>\n",
       "      <td>NO</td>\n",
       "    </tr>\n",
       "  </tbody>\n",
       "</table>\n",
       "</div>"
      ],
      "text/plain": [
       "1  Line  Type 5/29/2020 5/30/2020 5/31/2020\n",
       "4   MSC   20'    SINGLE    SINGLE        NO\n",
       "5   MSC   40'    SINGLE      DUAL        NO\n",
       "6   MSC  40HC    SINGLE      DUAL        NO\n",
       "7   MSC    45    SINGLE      DUAL        NO\n",
       "18  MAE   20'    SINGLE    SINGLE        NO\n",
       "19  MAE   40'    SINGLE    SINGLE        NO\n",
       "20  MAE  40HC    SINGLE    SINGLE        NO\n",
       "21  MAE    45    SINGLE    SINGLE        NO\n",
       "42  SML   20'      DUAL      DUAL        NO\n",
       "43  SML   40'      DUAL        NO        NO\n",
       "44  SML  40HC      DUAL        NO        NO\n",
       "45  SML    45      DUAL        NO        NO"
      ]
     },
     "execution_count": 20,
     "metadata": {},
     "output_type": "execute_result"
    }
   ],
   "source": [
    "#Reorder part duex....bc I did want to learn how to do it for both columns at once\n",
    "col_name=\"Line\"\n",
    "first_col = df4.pop(col_name)\n",
    "df4.insert(0, col_name, first_col)\n",
    "df4"
   ]
  },
  {
   "cell_type": "code",
   "execution_count": 22,
   "metadata": {},
   "outputs": [],
   "source": [
    "df4.to_excel(r\"C:\\Users\\CodyS\\Desktop\\ETL-Project\\data.xlsx\", index = False)\n",
    "df4.to_csv(r\"C:\\Users\\CodyS\\Desktop\\ETL-Project\\TTI.csv\", index = False)"
   ]
  },
  {
   "cell_type": "code",
   "execution_count": 28,
   "metadata": {},
   "outputs": [],
   "source": [
    "dates = df4.iloc[:, [2,3,4]]"
   ]
  },
  {
   "cell_type": "code",
   "execution_count": 31,
   "metadata": {},
   "outputs": [],
   "source": [
    "df5=df4.melt(id_vars=[\"Line\",\"Type\"], \n",
    "              var_name=\"Date\", value_name=\"TTI Status\")"
   ]
  },
  {
   "cell_type": "code",
   "execution_count": 32,
   "metadata": {},
   "outputs": [],
   "source": [
    "df5.to_excel(r\"C:\\Users\\CodyS\\Desktop\\ETL-Project\\data.xlsx\", index = False)\n",
    "df5.to_csv(r\"C:\\Users\\CodyS\\Desktop\\ETL-Project\\TTI.csv\", index = False)"
   ]
  },
  {
   "cell_type": "code",
   "execution_count": null,
   "metadata": {},
   "outputs": [],
   "source": []
  }
 ],
 "metadata": {
  "kernelspec": {
   "display_name": "Python 3",
   "language": "python",
   "name": "python3"
  },
  "language_info": {
   "codemirror_mode": {
    "name": "ipython",
    "version": 3
   },
   "file_extension": ".py",
   "mimetype": "text/x-python",
   "name": "python",
   "nbconvert_exporter": "python",
   "pygments_lexer": "ipython3",
   "version": "3.7.4"
  }
 },
 "nbformat": 4,
 "nbformat_minor": 2
}
